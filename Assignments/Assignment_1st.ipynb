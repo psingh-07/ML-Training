{
 "cells": [
  {
   "cell_type": "markdown",
   "metadata": {},
   "source": [
    "## Assignment 1"
   ]
  },
  {
   "cell_type": "markdown",
   "metadata": {},
   "source": [
    "### 1. Lists vs Tuples"
   ]
  },
  {
   "cell_type": "code",
   "execution_count": 6,
   "metadata": {},
   "outputs": [],
   "source": [
    "# Lists change ho sakti hain (mutable), Tuples nahi badal sakti (immutable).\n",
    "# Lists zyada flexible hain, par Tuples faster hote hain.\n",
    "my_list = [1, 2, 3] \n",
    "my_tuple = (1, 2, 3)  \n",
    "my_list.append(4)  \n",
    "# my_tuple.append(4)"
   ]
  },
  {
   "cell_type": "markdown",
   "metadata": {},
   "source": [
    "### 2. Type Conversion"
   ]
  },
  {
   "cell_type": "code",
   "execution_count": 2,
   "metadata": {},
   "outputs": [
    {
     "name": "stdout",
     "output_type": "stream",
     "text": [
      "10.0 123\n"
     ]
    }
   ],
   "source": [
    "num = 10  \n",
    "float_num = float(num)  \n",
    "\n",
    "string = '123'\n",
    "num_from_str = int(string) \n",
    "\n",
    "print(float_num, num_from_str)"
   ]
  },
  {
   "cell_type": "markdown",
   "metadata": {},
   "source": [
    "### 3. += Operator ka Use"
   ]
  },
  {
   "cell_type": "code",
   "execution_count": 3,
   "metadata": {},
   "outputs": [
    {
     "name": "stdout",
     "output_type": "stream",
     "text": [
      "Updated number: 15\n"
     ]
    }
   ],
   "source": [
    "num = 5\n",
    "num += 10  \n",
    "print('Updated number:', num)"
   ]
  },
  {
   "cell_type": "markdown",
   "metadata": {},
   "source": [
    "### 4. Leap Year Check"
   ]
  },
  {
   "cell_type": "code",
   "execution_count": 4,
   "metadata": {},
   "outputs": [
    {
     "name": "stdout",
     "output_type": "stream",
     "text": [
      "5 is not a Leap Year\n"
     ]
    }
   ],
   "source": [
    "year = int(input('Enter a year: '))\n",
    "if (year % 4 == 0 and year % 100 != 0) or (year % 400 == 0):\n",
    "    print(year, 'is a Leap Year')\n",
    "else:\n",
    "    print(year, 'is not a Leap Year')"
   ]
  },
  {
   "cell_type": "markdown",
   "metadata": {},
   "source": [
    "### 5. Marks ke Basis par Grade"
   ]
  },
  {
   "cell_type": "code",
   "execution_count": 5,
   "metadata": {},
   "outputs": [
    {
     "name": "stdout",
     "output_type": "stream",
     "text": [
      "Grade: F\n"
     ]
    }
   ],
   "source": [
    "marks = int(input('Enter your marks: '))\n",
    "\n",
    "if 90 <= marks <= 100:\n",
    "    print('Grade: A')\n",
    "elif 80 <= marks <= 89:\n",
    "    print('Grade: B')\n",
    "elif 70 <= marks <= 79:\n",
    "    print('Grade: C')\n",
    "elif 60 <= marks <= 69:\n",
    "    print('Grade: D')\n",
    "else:\n",
    "    print('Grade: F')"
   ]
  }
 ],
 "metadata": {
  "kernelspec": {
   "display_name": "base",
   "language": "python",
   "name": "python3"
  },
  "language_info": {
   "codemirror_mode": {
    "name": "ipython",
    "version": 3
   },
   "file_extension": ".py",
   "mimetype": "text/x-python",
   "name": "python",
   "nbconvert_exporter": "python",
   "pygments_lexer": "ipython3",
   "version": "3.12.4"
  }
 },
 "nbformat": 4,
 "nbformat_minor": 2
}
