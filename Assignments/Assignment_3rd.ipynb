{
 "cells": [
  {
   "cell_type": "markdown",
   "id": "6afffbf6",
   "metadata": {},
   "source": [
    "## Assignment 3"
   ]
  },
  {
   "cell_type": "markdown",
   "id": "cfb7197a",
   "metadata": {},
   "source": [
    "### 1. Lambda function to merge two lists into a dictionary"
   ]
  },
  {
   "cell_type": "code",
   "execution_count": 14,
   "id": "6e2432d7",
   "metadata": {},
   "outputs": [
    {
     "name": "stdout",
     "output_type": "stream",
     "text": [
      "{'a': 1, 'b': 2, 'c': 3}\n"
     ]
    }
   ],
   "source": [
    "\n",
    "merge_lists = lambda keys, values: dict(zip(keys, values))\n",
    "\n",
    "\n",
    "keys = ['a', 'b', 'c']\n",
    "values = [1, 2, 3]\n",
    "result_dict = merge_lists(keys, values)\n",
    "print(result_dict)  "
   ]
  },
  {
   "cell_type": "markdown",
   "id": "1060d2e4",
   "metadata": {},
   "source": [
    "### 2. Product class with discount calculation"
   ]
  },
  {
   "cell_type": "code",
   "execution_count": 15,
   "id": "1bcddc2b",
   "metadata": {},
   "outputs": [
    {
     "name": "stdout",
     "output_type": "stream",
     "text": [
      "45000.0\n"
     ]
    }
   ],
   "source": [
    "\n",
    "class Product:\n",
    "    discount_rate = 0.1  \n",
    "\n",
    "    def __init__(self, name, price):\n",
    "        self.name = name\n",
    "        self.price = price\n",
    "\n",
    "    def discounted_price(self):\n",
    "        return self.price * (1 - Product.discount_rate)\n",
    "\n",
    "# Example usage\n",
    "product = Product(\"Laptop\", 50000)\n",
    "print(product.discounted_price()) "
   ]
  },
  {
   "cell_type": "markdown",
   "id": "91ef36da",
   "metadata": {},
   "source": [
    "### 3. Inheritance - Shape, Circle, and Rectangle classes"
   ]
  },
  {
   "cell_type": "code",
   "execution_count": 16,
   "id": "015407aa",
   "metadata": {},
   "outputs": [
    {
     "name": "stdout",
     "output_type": "stream",
     "text": [
      "78.53981633974483\n",
      "24\n"
     ]
    }
   ],
   "source": [
    "\n",
    "import math\n",
    "\n",
    "class Shape:\n",
    "    def area(self):\n",
    "        pass \n",
    "\n",
    "class Circle(Shape):\n",
    "    def __init__(self, radius):\n",
    "        self.radius = radius\n",
    "\n",
    "    def area(self):\n",
    "        return math.pi * self.radius ** 2\n",
    "\n",
    "class Rectangle(Shape):\n",
    "    def __init__(self, width, height):\n",
    "        self.width = width\n",
    "        self.height = height\n",
    "\n",
    "    def area(self):\n",
    "        return self.width * self.height\n",
    "\n",
    "\n",
    "circle = Circle(5)\n",
    "rectangle = Rectangle(4, 6)\n",
    "print(circle.area()) \n",
    "print(rectangle.area())  "
   ]
  },
  {
   "cell_type": "markdown",
   "id": "b60866c3",
   "metadata": {},
   "source": [
    "### 4. Multiple Inheritance - Person, Employee, and Manager classes"
   ]
  },
  {
   "cell_type": "code",
   "execution_count": 17,
   "id": "015407aa",
   "metadata": {},
   "outputs": [
    {
     "name": "stdout",
     "output_type": "stream",
     "text": [
      "Alice 40 M123 80000 HR\n"
     ]
    }
   ],
   "source": [
    "\n",
    "class Person:\n",
    "    def __init__(self, name, age):\n",
    "        self.name = name\n",
    "        self.age = age\n",
    "\n",
    "class Employee:\n",
    "    def __init__(self, employee_id, salary):\n",
    "        self.employee_id = employee_id\n",
    "        self.salary = salary\n",
    "\n",
    "class Manager(Person, Employee):\n",
    "    def __init__(self, name, age, employee_id, salary, department):\n",
    "        Person.__init__(self, name, age)\n",
    "        Employee.__init__(self, employee_id, salary)\n",
    "        self.department = department\n",
    "\n",
    "\n",
    "manager = Manager(\"Alice\", 40, \"M123\", 80000, \"HR\")\n",
    "print(manager.name, manager.age, manager.employee_id, manager.salary, manager.department)"
   ]
  },
  {
   "cell_type": "markdown",
   "id": "fad7005d",
   "metadata": {},
   "source": [
    "### 5. Polymorphism - play_sound function with different animal objects"
   ]
  },
  {
   "cell_type": "code",
   "execution_count": 18,
   "id": "1f538a45",
   "metadata": {},
   "outputs": [
    {
     "name": "stdout",
     "output_type": "stream",
     "text": [
      "Bark\n",
      "Meow\n",
      "Moo\n"
     ]
    }
   ],
   "source": [
    "\n",
    "class Dog:\n",
    "    def make_sound(self):\n",
    "        return \"Bark\"\n",
    "\n",
    "class Cat:\n",
    "    def make_sound(self):\n",
    "        return \"Meow\"\n",
    "\n",
    "class Cow:\n",
    "    def make_sound(self):\n",
    "        return \"Moo\"\n",
    "\n",
    "\n",
    "def play_sound(animal):\n",
    "    print(animal.make_sound())\n",
    "\n",
    "\n",
    "animals = [Dog(), Cat(), Cow()]\n",
    "for animal in animals:\n",
    "    play_sound(animal)"
   ]
  },
  {
   "cell_type": "markdown",
   "id": "6d9a3fcb",
   "metadata": {},
   "source": [
    "### 6. Car Rental System using OOP"
   ]
  },
  {
   "cell_type": "code",
   "execution_count": 19,
   "id": "24b7fb90",
   "metadata": {},
   "outputs": [
    {
     "name": "stdout",
     "output_type": "stream",
     "text": [
      "Tata Curvv - Price per day: 19 lekh | Seating Capacity: 4\n",
      "Bajaj platina 100 - Price per day: 73000 | Type: Normal\n"
     ]
    }
   ],
   "source": [
    "\n",
    "class Vehicle:\n",
    "    def __init__(self, brand, model, price_per_day):\n",
    "        self.brand = brand\n",
    "        self.model = model\n",
    "        self.price_per_day = price_per_day\n",
    "\n",
    "    def display_info(self):\n",
    "        return f\"{self.brand} {self.model} - Price per day: {self.price_per_day}\"\n",
    "\n",
    "class Car(Vehicle):\n",
    "    def __init__(self, brand, model, price_per_day, seating_capacity):\n",
    "        super().__init__(brand, model, price_per_day)\n",
    "        self.seating_capacity = seating_capacity\n",
    "\n",
    "    def display_info(self):\n",
    "        return super().display_info() + f\" | Seating Capacity: {self.seating_capacity}\"\n",
    "\n",
    "class Bike(Vehicle):\n",
    "    def __init__(self, brand, model, price_per_day, type_of_bike):\n",
    "        super().__init__(brand, model, price_per_day)\n",
    "        self.type_of_bike = type_of_bike\n",
    "\n",
    "    def display_info(self):\n",
    "        return super().display_info() + f\" | Type: {self.type_of_bike}\"\n",
    "\n",
    "\n",
    "car = Car(\"Tata\", \"Curvv\", \"19 lekh\", 4)\n",
    "bike = Bike(\"Bajaj\", \"platina 100\", 73000, \"Normal\")\n",
    "print(car.display_info())  \n",
    "print(bike.display_info())  "
   ]
  },
  {
   "cell_type": "markdown",
   "id": "40ffbd76",
   "metadata": {},
   "source": [
    "# Sender.py"
   ]
  },
  {
   "cell_type": "code",
   "execution_count": null,
   "id": "5da91052",
   "metadata": {},
   "outputs": [],
   "source": [
    "import socket\n",
    "\n",
    "s = socket.socket(socket.AF_INET, socket.SOCK_DGRAM)\n",
    "ip_add = \"192.168.248.56\"\n",
    "port = 1234\n",
    "complete = (ip_add, port)\n",
    "\n",
    "msg = input(\"kya msg karoge\")\n",
    "encode_msg = msg.encode('ascii')  \n",
    "s.sendto(encode_msg, complete)"
   ]
  },
  {
   "cell_type": "markdown",
   "id": "409ecfb8",
   "metadata": {},
   "source": [
    "# Receiver.py"
   ]
  },
  {
   "cell_type": "code",
   "execution_count": null,
   "id": "56354045",
   "metadata": {},
   "outputs": [],
   "source": [
    "import socket\n",
    "\n",
    "s = socket.socket(socket.AF_INET, socket.SOCK_DGRAM)\n",
    "ip_add = \"192.168.248.56\"\n",
    "port = 1234\n",
    "complete = (ip_add, port)\n",
    "s.bind(complete)\n",
    "\n",
    "while True:\n",
    "    msg, addr = s.recvfrom(1024)\n",
    "    msg = msg.decode('ascii')\n",
    "    print(f\"Received message: {msg} \")"
   ]
  }
 ],
 "metadata": {
  "kernelspec": {
   "display_name": "base",
   "language": "python",
   "name": "python3"
  },
  "language_info": {
   "codemirror_mode": {
    "name": "ipython",
    "version": 3
   },
   "file_extension": ".py",
   "mimetype": "text/x-python",
   "name": "python",
   "nbconvert_exporter": "python",
   "pygments_lexer": "ipython3",
   "version": "3.12.4"
  }
 },
 "nbformat": 4,
 "nbformat_minor": 5
}
