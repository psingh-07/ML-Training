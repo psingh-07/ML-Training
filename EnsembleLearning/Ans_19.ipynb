{
 "cells": [
  {
   "cell_type": "code",
   "execution_count": 1,
   "metadata": {},
   "outputs": [
    {
     "name": "stdout",
     "output_type": "stream",
     "text": [
      "Marks: 85\n",
      "Updated Marks: 92\n"
     ]
    }
   ],
   "source": [
    "class Student:\n",
    "    def __init__(self, name, marks):\n",
    "        self.name = name\n",
    "        self.__marks = marks\n",
    "\n",
    "    def get_marks(self):\n",
    "        return self.__marks\n",
    "\n",
    "    def set_marks(self, new_marks):\n",
    "        if 0 <= new_marks <= 100:\n",
    "            self.__marks = new_marks\n",
    "        else:\n",
    "            print(\"Invalid marks. Please enter a value between 0 and 100.\")\n",
    "\n",
    "s1 = Student(\"Alice\", 85)\n",
    "\n",
    "print(\"Marks:\", s1.get_marks())    \n",
    "s1.set_marks(92)                   \n",
    "print(\"Updated Marks:\", s1.get_marks())\n"
   ]
  },
  {
   "cell_type": "code",
   "execution_count": null,
   "metadata": {},
   "outputs": [],
   "source": []
  }
 ],
 "metadata": {
  "kernelspec": {
   "display_name": "Python 3",
   "language": "python",
   "name": "python3"
  },
  "language_info": {
   "codemirror_mode": {
    "name": "ipython",
    "version": 3
   },
   "file_extension": ".py",
   "mimetype": "text/x-python",
   "name": "python",
   "nbconvert_exporter": "python",
   "pygments_lexer": "ipython3",
   "version": "3.13.2"
  }
 },
 "nbformat": 4,
 "nbformat_minor": 2
}
